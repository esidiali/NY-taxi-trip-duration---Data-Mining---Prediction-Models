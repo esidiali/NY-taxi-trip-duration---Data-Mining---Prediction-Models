{
 "cells": [
  {
   "cell_type": "markdown",
   "metadata": {},
   "source": [
    "# Import libraries"
   ]
  },
  {
   "cell_type": "code",
   "execution_count": 30,
   "metadata": {},
   "outputs": [],
   "source": [
    "import pandas as pd\n",
    "import numpy as np\n",
    "import xgboost as xgb\n",
    "from xgboost.sklearn import XGBClassifier\n",
    "from sklearn import cross_validation, metrics   #Additional scklearn functions\n",
    "from sklearn.grid_search import GridSearchCV   #Perforing grid search\n",
    "\n",
    "import matplotlib.pylab as plt\n",
    "%matplotlib inline\n",
    "from matplotlib.pylab import rcParams\n",
    "rcParams['figure.figsize'] = 12, 4\n",
    "\n",
    "train = pd.read_csv('cleaned_set.csv')\n",
    "\n"
   ]
  },
  {
   "cell_type": "code",
   "execution_count": null,
   "metadata": {},
   "outputs": [],
   "source": []
  },
  {
   "cell_type": "markdown",
   "metadata": {},
   "source": [
    "### trip duration to hours"
   ]
  },
  {
   "cell_type": "code",
   "execution_count": 31,
   "metadata": {},
   "outputs": [
    {
     "data": {
      "text/plain": [
       "count    1.458487e+06\n",
       "mean     2.646940e-01\n",
       "std      8.809655e-01\n",
       "min      2.777778e-04\n",
       "25%      1.102778e-01\n",
       "50%      1.838889e-01\n",
       "75%      2.986111e-01\n",
       "max      2.399778e+01\n",
       "Name: trip_dur_in_hr, dtype: float64"
      ]
     },
     "execution_count": 31,
     "metadata": {},
     "output_type": "execute_result"
    }
   ],
   "source": [
    "train['trip_dur_in_hr']=train['trip_duration']/3600\n",
    "train['trip_dur_in_hr'].describe()\n"
   ]
  },
  {
   "cell_type": "markdown",
   "metadata": {},
   "source": [
    "max value in 23 hour, we gonna remove trip with duration more than 2h"
   ]
  },
  {
   "cell_type": "code",
   "execution_count": 32,
   "metadata": {},
   "outputs": [],
   "source": [
    "train=train[train['trip_dur_in_hr'] <= 2]"
   ]
  },
  {
   "cell_type": "code",
   "execution_count": 36,
   "metadata": {},
   "outputs": [
    {
     "name": "stdout",
     "output_type": "stream",
     "text": [
      "[[0.005002, 0.004943, 0.004843, 0.004999, 0.005855, 0.005757, 0.004578, 0.003485, 0.002834, 0.002739, 0.002804, 0.002842, 0.002812, 0.002924, 0.00287, 0.002844, 0.002925, 0.002889, 0.002942, 0.003343, 0.003752, 0.003851, 0.003957, 0.004359], [0.004595, 0.004814, 0.004842, 0.005062, 0.005689, 0.005544, 0.004322, 0.003214, 0.002531, 0.00241, 0.00241, 0.002399, 0.002438, 0.002507, 0.002524, 0.002496, 0.002638, 0.002603, 0.00266, 0.003064, 0.003437, 0.003576, 0.00371, 0.004054], [0.004298, 0.004589, 0.004701, 0.004937, 0.005563, 0.005521, 0.004406, 0.003219, 0.002573, 0.00242, 0.002424, 0.002365, 0.002348, 0.002429, 0.00242, 0.002412, 0.002567, 0.002508, 0.002567, 0.00288, 0.003326, 0.003476, 0.003546, 0.003847], [0.004169, 0.004525, 0.004638, 0.004992, 0.005513, 0.005551, 0.004414, 0.003224, 0.002537, 0.002445, 0.002444, 0.002408, 0.002398, 0.002505, 0.002455, 0.00242, 0.002563, 0.002538, 0.00257, 0.002842, 0.003198, 0.003311, 0.003358, 0.003628], [0.003853, 0.004135, 0.004251, 0.004547, 0.005128, 0.005584, 0.004484, 0.003349, 0.002662, 0.002517, 0.002562, 0.002538, 0.002587, 0.002752, 0.002623, 0.00253, 0.00266, 0.002681, 0.002693, 0.002825, 0.003138, 0.003222, 0.003187, 0.003265], [0.003428, 0.003693, 0.003849, 0.004131, 0.004561, 0.005594, 0.005501, 0.004796, 0.00416, 0.00371, 0.003467, 0.003203, 0.003055, 0.002963, 0.002964, 0.002941, 0.002951, 0.002924, 0.002803, 0.002737, 0.002967, 0.003099, 0.003076, 0.003203], [0.003415, 0.003626, 0.003868, 0.004141, 0.004464, 0.005479, 0.005872, 0.005387, 0.004635, 0.00424, 0.003888, 0.003541, 0.003363, 0.003265, 0.003206, 0.003205, 0.003196, 0.003248, 0.003228, 0.003415, 0.003684, 0.003933, 0.004214, 0.004572]]\n"
     ]
    },
    {
     "name": "stderr",
     "output_type": "stream",
     "text": [
      "C:\\Users\\EL MAHDI\\Anaconda3\\lib\\site-packages\\ipykernel_launcher.py:57: SettingWithCopyWarning: \n",
      "A value is trying to be set on a copy of a slice from a DataFrame\n",
      "\n",
      "See the caveats in the documentation: http://pandas.pydata.org/pandas-docs/stable/indexing.html#indexing-view-versus-copy\n",
      "C:\\Users\\EL MAHDI\\Anaconda3\\lib\\site-packages\\ipykernel_launcher.py:57: SettingWithCopyWarning: \n",
      "A value is trying to be set on a copy of a slice from a DataFrame\n",
      "\n",
      "See the caveats in the documentation: http://pandas.pydata.org/pandas-docs/stable/indexing.html#indexing-view-versus-copy\n"
     ]
    }
   ],
   "source": [
    "def create_datetime(df):\n",
    "\n",
    "    df['pickup_datetime']=pd.to_datetime(df['pickup_datetime'])\n",
    "\n",
    "    # Hour of the day\n",
    "    df['pickup_seconds'] = (df['pickup_sec'] + df['pickup_min'] * 60 + df['pickup_hour'] * 3600)\n",
    "    #df['weather']=[1 if (i in [1,2,3]) else(2 if (i in [4,11,12]) else 3) for i in df['pickup_mon']]\n",
    "    #df['quarter']=df['pickup_datetime'].dt.quarter  ## quarter of the year\n",
    "    df['mid_latitude']=(df['dropoff_latitude']-df['pickup_latitude'])/2\n",
    "    df['mid_longitude']=(df['dropoff_longitude']-df['pickup_longitude'])/2\n",
    "    #df['night']=[1 if (i==0 or i>=20)  else 0 for i in df['pickup_hour']]\n",
    "    #df['too_late']=[1 if (i<5 and i>0)  else 0 for i in df['pickup_hour']]\n",
    "    \n",
    "\n",
    "# Harvesine Distance\n",
    "def create_speed(df):\n",
    "    #calcul de la vitesse moyenne pour une course\n",
    "    df['speed1'] = df['distance1']/df['trip_duration']\n",
    "def create_distance(df):\n",
    "    \n",
    "    #Haversine distance already in the file\n",
    "    #df['havers_dist'] = df.apply(lambda x: haversine(\n",
    "        #(x['pickup_latitude'], x['pickup_longitude']),\n",
    "        #(x['dropoff_latitude'], x['dropoff_longitude'])), axis=1)\n",
    "    \n",
    "    #Manhattan distance\n",
    "    df['Manhattan_dist']=[min(abs(i-j),abs(k-l)) for i,j,k,l in zip(df['x1'],df['y1'],df['x2'],df['y2'])]\n",
    "    \n",
    "    #Chebyshev distance\n",
    "    df['Chebyshev_dist']=[max(abs(i-j),abs(k-l)) for i,j,k,l in zip(df['x1'],df['y1'],df['x2'],df['y2'])]\n",
    "\n",
    "def bearing_heading(lat1, lon1, lat2, lon2):\n",
    "    #R = 6371  # in km\n",
    "    delta = np.radians(lon2 - lon1)\n",
    "    lat1, lon1, lat2, lon2 = map(np.radians, (lat1, lon1, lat2, lon2))\n",
    "    \n",
    "    X = np.cos(lat2) * np.sin(delta)\n",
    "    Y = np.cos(lat1) * np.sin(lat2) - np.sin(lat1) * np.cos(lat2) * np.cos(delta)\n",
    "    beta = np.arctan2(X, Y)\n",
    "    \n",
    "    return np.degrees(beta)\n",
    "\n",
    "def create_meanspeedhour_list(df):\n",
    "    #création d'une liste des meanspeedhour associées à chaque heure et jour\n",
    "    for j in range (0,7):\n",
    "        heure0 = round(df['speed1'][(df['pickup_hour'] == 0) & (df['pickup_day'] == j)].mean(),6)\n",
    "        MSH_list.append([heure0])\n",
    "        for i in range(1,24):\n",
    "            MSH_list[j].append(round(df['speed1'][(df['pickup_hour'] == i) & (df['pickup_day'] == j)].mean(),6))\n",
    "        \n",
    "    print(MSH_list)\n",
    "        \n",
    "def create_meanspeedhour(df):\n",
    "    df['average_speed']=df['pickup_hour']\n",
    "    for i in range(0,24):\n",
    "        for j in range (0,7):\n",
    "            df['average_speed'][(df['pickup_hour'] == i) & (df['pickup_day'] == j)] = MSH_list[j][i]\n",
    "            \n",
    "def create_average_duration(df):\n",
    "    df['average_duration']=df['distance1']/df['average_speed']\n",
    "\n",
    "create_datetime(train)\n",
    "create_speed(train)\n",
    "create_distance(train)\n",
    "MSH_list=[];\n",
    "create_meanspeedhour_list(train)\n",
    "create_meanspeedhour(train)\n",
    "create_average_duration(train)"
   ]
  },
  {
   "cell_type": "code",
   "execution_count": 37,
   "metadata": {},
   "outputs": [],
   "source": [
    "train['bearing_direction']=[bearing_heading(i,j,k,l) for i,j,k,l in zip(train['pickup_latitude'], \n",
    "                                                                       train['pickup_longitude'],\n",
    "                                                                       train['dropoff_latitude'], \n",
    "                                                                       train['dropoff_longitude'])]"
   ]
  },
  {
   "cell_type": "code",
   "execution_count": 38,
   "metadata": {},
   "outputs": [
    {
     "data": {
      "text/plain": [
       "Index(['Unnamed: 0', 'id', 'vendor_id', 'pickup_datetime', 'dropoff_datetime',\n",
       "       'passenger_count', 'pickup_longitude', 'pickup_latitude',\n",
       "       'dropoff_longitude', 'dropoff_latitude', 'store_and_fwd_flag',\n",
       "       'trip_duration', 'logduration', 'pickup_hour', 'pickup_DayHour', 'x1',\n",
       "       'y1', 'x2', 'y2', 'distance1', 'logdistance1', 'havers_dist',\n",
       "       'pickup_min', 'pickup_sec', 'pickup_day', 'pickup_date', 'pickup_mon',\n",
       "       'speed', 'trip_dur_in_hr', 'average_speed', 'pickup_seconds',\n",
       "       'mid_latitude', 'mid_longitude', 'Manhattan_dist', 'Chebyshev_dist',\n",
       "       'average_duration', 'bearing_direction', 'speed1'],\n",
       "      dtype='object')"
      ]
     },
     "execution_count": 38,
     "metadata": {},
     "output_type": "execute_result"
    }
   ],
   "source": [
    "train.columns"
   ]
  },
  {
   "cell_type": "code",
   "execution_count": 39,
   "metadata": {},
   "outputs": [],
   "source": [
    "train = train.drop(['Unnamed: 0'], axis=1)"
   ]
  },
  {
   "cell_type": "code",
   "execution_count": 40,
   "metadata": {},
   "outputs": [
    {
     "data": {
      "text/plain": [
       "Index(['id', 'vendor_id', 'pickup_datetime', 'dropoff_datetime',\n",
       "       'passenger_count', 'pickup_longitude', 'pickup_latitude',\n",
       "       'dropoff_longitude', 'dropoff_latitude', 'store_and_fwd_flag',\n",
       "       'trip_duration', 'logduration', 'pickup_hour', 'pickup_DayHour', 'x1',\n",
       "       'y1', 'x2', 'y2', 'distance1', 'logdistance1', 'havers_dist',\n",
       "       'pickup_min', 'pickup_sec', 'pickup_day', 'pickup_date', 'pickup_mon',\n",
       "       'speed', 'trip_dur_in_hr', 'average_speed', 'pickup_seconds',\n",
       "       'mid_latitude', 'mid_longitude', 'Manhattan_dist', 'Chebyshev_dist',\n",
       "       'average_duration', 'bearing_direction', 'speed1'],\n",
       "      dtype='object')"
      ]
     },
     "execution_count": 40,
     "metadata": {},
     "output_type": "execute_result"
    }
   ],
   "source": [
    "train.columns"
   ]
  },
  {
   "cell_type": "code",
   "execution_count": 41,
   "metadata": {},
   "outputs": [],
   "source": [
    "## drop columns to avoid data type problems in xgboost\n",
    "train=train.drop(['id','pickup_datetime','dropoff_datetime','store_and_fwd_flag', 'logduration','trip_dur_in_hr','pickup_DayHour', 'speed',\n",
    "                 'speed1'],1)"
   ]
  },
  {
   "cell_type": "code",
   "execution_count": 47,
   "metadata": {},
   "outputs": [
    {
     "data": {
      "text/plain": [
       "Index(['vendor_id', 'passenger_count', 'pickup_longitude', 'pickup_latitude',\n",
       "       'dropoff_longitude', 'dropoff_latitude', 'trip_duration', 'pickup_hour',\n",
       "       'x1', 'y1', 'x2', 'y2', 'distance1', 'logdistance1', 'havers_dist',\n",
       "       'pickup_min', 'pickup_sec', 'pickup_day', 'pickup_date', 'pickup_mon',\n",
       "       'average_speed', 'pickup_seconds', 'mid_latitude', 'mid_longitude',\n",
       "       'Manhattan_dist', 'Chebyshev_dist', 'average_duration',\n",
       "       'bearing_direction'],\n",
       "      dtype='object')"
      ]
     },
     "execution_count": 47,
     "metadata": {},
     "output_type": "execute_result"
    }
   ],
   "source": [
    "train.columns"
   ]
  },
  {
   "cell_type": "code",
   "execution_count": 48,
   "metadata": {},
   "outputs": [
    {
     "data": {
      "text/html": [
       "<div>\n",
       "<style scoped>\n",
       "    .dataframe tbody tr th:only-of-type {\n",
       "        vertical-align: middle;\n",
       "    }\n",
       "\n",
       "    .dataframe tbody tr th {\n",
       "        vertical-align: top;\n",
       "    }\n",
       "\n",
       "    .dataframe thead th {\n",
       "        text-align: right;\n",
       "    }\n",
       "</style>\n",
       "<table border=\"1\" class=\"dataframe\">\n",
       "  <thead>\n",
       "    <tr style=\"text-align: right;\">\n",
       "      <th></th>\n",
       "      <th>vendor_id</th>\n",
       "      <th>passenger_count</th>\n",
       "      <th>pickup_longitude</th>\n",
       "      <th>pickup_latitude</th>\n",
       "      <th>dropoff_longitude</th>\n",
       "      <th>dropoff_latitude</th>\n",
       "      <th>trip_duration</th>\n",
       "      <th>pickup_hour</th>\n",
       "      <th>x1</th>\n",
       "      <th>y1</th>\n",
       "      <th>...</th>\n",
       "      <th>pickup_date</th>\n",
       "      <th>pickup_mon</th>\n",
       "      <th>average_speed</th>\n",
       "      <th>pickup_seconds</th>\n",
       "      <th>mid_latitude</th>\n",
       "      <th>mid_longitude</th>\n",
       "      <th>Manhattan_dist</th>\n",
       "      <th>Chebyshev_dist</th>\n",
       "      <th>average_duration</th>\n",
       "      <th>bearing_direction</th>\n",
       "    </tr>\n",
       "  </thead>\n",
       "  <tbody>\n",
       "    <tr>\n",
       "      <th>0</th>\n",
       "      <td>2</td>\n",
       "      <td>1</td>\n",
       "      <td>-73.982155</td>\n",
       "      <td>40.767937</td>\n",
       "      <td>-73.964630</td>\n",
       "      <td>40.765602</td>\n",
       "      <td>455</td>\n",
       "      <td>17</td>\n",
       "      <td>1331.434577</td>\n",
       "      <td>-4637.812000</td>\n",
       "      <td>...</td>\n",
       "      <td>14</td>\n",
       "      <td>3</td>\n",
       "      <td>0.002889</td>\n",
       "      <td>62695</td>\n",
       "      <td>-0.001167</td>\n",
       "      <td>0.008762</td>\n",
       "      <td>5969.246577</td>\n",
       "      <td>5970.467339</td>\n",
       "      <td>514.214895</td>\n",
       "      <td>99.970196</td>\n",
       "    </tr>\n",
       "    <tr>\n",
       "      <th>1</th>\n",
       "      <td>1</td>\n",
       "      <td>1</td>\n",
       "      <td>-73.980415</td>\n",
       "      <td>40.738564</td>\n",
       "      <td>-73.999481</td>\n",
       "      <td>40.731152</td>\n",
       "      <td>663</td>\n",
       "      <td>0</td>\n",
       "      <td>1332.163782</td>\n",
       "      <td>-4639.820928</td>\n",
       "      <td>...</td>\n",
       "      <td>12</td>\n",
       "      <td>6</td>\n",
       "      <td>0.003415</td>\n",
       "      <td>2615</td>\n",
       "      <td>-0.003706</td>\n",
       "      <td>-0.009533</td>\n",
       "      <td>5971.548951</td>\n",
       "      <td>5971.984710</td>\n",
       "      <td>496.065207</td>\n",
       "      <td>-117.153768</td>\n",
       "    </tr>\n",
       "    <tr>\n",
       "      <th>2</th>\n",
       "      <td>2</td>\n",
       "      <td>1</td>\n",
       "      <td>-73.979027</td>\n",
       "      <td>40.763939</td>\n",
       "      <td>-74.005333</td>\n",
       "      <td>40.710087</td>\n",
       "      <td>2124</td>\n",
       "      <td>11</td>\n",
       "      <td>1331.767887</td>\n",
       "      <td>-4638.018298</td>\n",
       "      <td>...</td>\n",
       "      <td>19</td>\n",
       "      <td>1</td>\n",
       "      <td>0.002399</td>\n",
       "      <td>41724</td>\n",
       "      <td>-0.026926</td>\n",
       "      <td>-0.013153</td>\n",
       "      <td>5969.786185</td>\n",
       "      <td>5973.100801</td>\n",
       "      <td>1872.671004</td>\n",
       "      <td>-159.680165</td>\n",
       "    </tr>\n",
       "    <tr>\n",
       "      <th>3</th>\n",
       "      <td>2</td>\n",
       "      <td>1</td>\n",
       "      <td>-74.010040</td>\n",
       "      <td>40.719971</td>\n",
       "      <td>-74.012268</td>\n",
       "      <td>40.706718</td>\n",
       "      <td>429</td>\n",
       "      <td>19</td>\n",
       "      <td>1330.136170</td>\n",
       "      <td>-4641.805883</td>\n",
       "      <td>...</td>\n",
       "      <td>6</td>\n",
       "      <td>4</td>\n",
       "      <td>0.002880</td>\n",
       "      <td>70351</td>\n",
       "      <td>-0.006626</td>\n",
       "      <td>-0.001114</td>\n",
       "      <td>5971.942053</td>\n",
       "      <td>5973.002028</td>\n",
       "      <td>340.052128</td>\n",
       "      <td>-172.737700</td>\n",
       "    </tr>\n",
       "    <tr>\n",
       "      <th>4</th>\n",
       "      <td>2</td>\n",
       "      <td>1</td>\n",
       "      <td>-73.973053</td>\n",
       "      <td>40.793209</td>\n",
       "      <td>-73.972923</td>\n",
       "      <td>40.782520</td>\n",
       "      <td>435</td>\n",
       "      <td>13</td>\n",
       "      <td>1331.664551</td>\n",
       "      <td>-4635.836280</td>\n",
       "      <td>...</td>\n",
       "      <td>26</td>\n",
       "      <td>3</td>\n",
       "      <td>0.002963</td>\n",
       "      <td>48655</td>\n",
       "      <td>-0.005344</td>\n",
       "      <td>0.000065</td>\n",
       "      <td>5967.500832</td>\n",
       "      <td>5968.468922</td>\n",
       "      <td>262.066019</td>\n",
       "      <td>179.473585</td>\n",
       "    </tr>\n",
       "  </tbody>\n",
       "</table>\n",
       "<p>5 rows × 28 columns</p>\n",
       "</div>"
      ],
      "text/plain": [
       "   vendor_id  passenger_count  pickup_longitude  pickup_latitude  \\\n",
       "0          2                1        -73.982155        40.767937   \n",
       "1          1                1        -73.980415        40.738564   \n",
       "2          2                1        -73.979027        40.763939   \n",
       "3          2                1        -74.010040        40.719971   \n",
       "4          2                1        -73.973053        40.793209   \n",
       "\n",
       "   dropoff_longitude  dropoff_latitude  trip_duration  pickup_hour  \\\n",
       "0         -73.964630         40.765602            455           17   \n",
       "1         -73.999481         40.731152            663            0   \n",
       "2         -74.005333         40.710087           2124           11   \n",
       "3         -74.012268         40.706718            429           19   \n",
       "4         -73.972923         40.782520            435           13   \n",
       "\n",
       "            x1           y1        ...          pickup_date  pickup_mon  \\\n",
       "0  1331.434577 -4637.812000        ...                   14           3   \n",
       "1  1332.163782 -4639.820928        ...                   12           6   \n",
       "2  1331.767887 -4638.018298        ...                   19           1   \n",
       "3  1330.136170 -4641.805883        ...                    6           4   \n",
       "4  1331.664551 -4635.836280        ...                   26           3   \n",
       "\n",
       "   average_speed  pickup_seconds  mid_latitude  mid_longitude  Manhattan_dist  \\\n",
       "0       0.002889           62695     -0.001167       0.008762     5969.246577   \n",
       "1       0.003415            2615     -0.003706      -0.009533     5971.548951   \n",
       "2       0.002399           41724     -0.026926      -0.013153     5969.786185   \n",
       "3       0.002880           70351     -0.006626      -0.001114     5971.942053   \n",
       "4       0.002963           48655     -0.005344       0.000065     5967.500832   \n",
       "\n",
       "   Chebyshev_dist  average_duration  bearing_direction  \n",
       "0     5970.467339        514.214895          99.970196  \n",
       "1     5971.984710        496.065207        -117.153768  \n",
       "2     5973.100801       1872.671004        -159.680165  \n",
       "3     5973.002028        340.052128        -172.737700  \n",
       "4     5968.468922        262.066019         179.473585  \n",
       "\n",
       "[5 rows x 28 columns]"
      ]
     },
     "execution_count": 48,
     "metadata": {},
     "output_type": "execute_result"
    }
   ],
   "source": [
    "train.head()"
   ]
  },
  {
   "cell_type": "code",
   "execution_count": null,
   "metadata": {},
   "outputs": [],
   "source": []
  },
  {
   "cell_type": "code",
   "execution_count": 49,
   "metadata": {},
   "outputs": [
    {
     "data": {
      "text/plain": [
       "Index(['vendor_id', 'passenger_count', 'pickup_longitude', 'pickup_latitude',\n",
       "       'dropoff_longitude', 'dropoff_latitude', 'trip_duration', 'pickup_hour',\n",
       "       'x1', 'y1', 'x2', 'y2', 'distance1', 'logdistance1', 'havers_dist',\n",
       "       'pickup_min', 'pickup_sec', 'pickup_day', 'pickup_date', 'pickup_mon',\n",
       "       'average_speed', 'pickup_seconds', 'mid_latitude', 'mid_longitude',\n",
       "       'Manhattan_dist', 'Chebyshev_dist', 'average_duration',\n",
       "       'bearing_direction'],\n",
       "      dtype='object')"
      ]
     },
     "execution_count": 49,
     "metadata": {},
     "output_type": "execute_result"
    }
   ],
   "source": [
    "train.columns"
   ]
  },
  {
   "cell_type": "code",
   "execution_count": 50,
   "metadata": {},
   "outputs": [],
   "source": [
    "y=np.log(train['trip_duration'].values + 1)\n",
    "x=train.drop(['trip_duration'],1)"
   ]
  },
  {
   "cell_type": "code",
   "execution_count": 51,
   "metadata": {},
   "outputs": [],
   "source": [
    "from sklearn.cross_validation import train_test_split\n",
    "Xtrain, Xvalid, ytrain, yvalid = train_test_split(x, y, test_size=0.2, random_state=1996)"
   ]
  },
  {
   "cell_type": "code",
   "execution_count": 52,
   "metadata": {},
   "outputs": [],
   "source": [
    "dtrain = xgb.DMatrix(Xtrain, label=ytrain)"
   ]
  },
  {
   "cell_type": "code",
   "execution_count": 55,
   "metadata": {},
   "outputs": [],
   "source": [
    "dvalid = xgb.DMatrix(Xvalid, label=yvalid)\n",
    "#dtest = xgb.DMatrix(test[feature_names].values)\n",
    "evallist = [(dtrain, 'train'), (dvalid, 'valid')]\n",
    "\n",
    "num_round = 100000\n",
    "\n",
    "xgb_pars = {'min_child_weight': 10, 'eta': 0.03, 'colsample_bytree': 0.3, 'max_depth': 10,\n",
    "            'subsample': 0.8, 'lambda': 1, 'nthread': 4, 'booster' : 'gbtree', 'silent': 1,\n",
    "            'eval_metric': 'rmse', 'objective': 'reg:linear'}"
   ]
  },
  {
   "cell_type": "code",
   "execution_count": 56,
   "metadata": {},
   "outputs": [
    {
     "name": "stdout",
     "output_type": "stream",
     "text": [
      "[0]\ttrain-rmse:5.83152\tvalid-rmse:5.83023\n",
      "Multiple eval metrics have been passed: 'valid-rmse' will be used for early stopping.\n",
      "\n",
      "Will train until valid-rmse hasn't improved in 90 rounds.\n",
      "[100]\ttrain-rmse:0.448847\tvalid-rmse:0.454329\n",
      "[200]\ttrain-rmse:0.326393\tvalid-rmse:0.342733\n",
      "[300]\ttrain-rmse:0.312905\tvalid-rmse:0.336845\n",
      "[400]\ttrain-rmse:0.302794\tvalid-rmse:0.333626\n",
      "[500]\ttrain-rmse:0.296244\tvalid-rmse:0.331716\n",
      "[600]\ttrain-rmse:0.291997\tvalid-rmse:0.330517\n",
      "[700]\ttrain-rmse:0.28799\tvalid-rmse:0.329496\n",
      "[800]\ttrain-rmse:0.28494\tvalid-rmse:0.328813\n",
      "[900]\ttrain-rmse:0.282371\tvalid-rmse:0.328238\n",
      "[1000]\ttrain-rmse:0.279909\tvalid-rmse:0.327799\n",
      "[1100]\ttrain-rmse:0.277257\tvalid-rmse:0.327235\n",
      "[1200]\ttrain-rmse:0.274784\tvalid-rmse:0.326716\n",
      "[1300]\ttrain-rmse:0.27257\tvalid-rmse:0.32634\n",
      "[1400]\ttrain-rmse:0.27051\tvalid-rmse:0.325997\n",
      "[1500]\ttrain-rmse:0.268515\tvalid-rmse:0.325621\n",
      "[1600]\ttrain-rmse:0.26682\tvalid-rmse:0.325432\n",
      "[1700]\ttrain-rmse:0.264995\tvalid-rmse:0.325157\n",
      "[1800]\ttrain-rmse:0.26336\tvalid-rmse:0.324952\n",
      "[1900]\ttrain-rmse:0.261713\tvalid-rmse:0.324714\n",
      "[2000]\ttrain-rmse:0.260277\tvalid-rmse:0.324544\n",
      "[2100]\ttrain-rmse:0.258665\tvalid-rmse:0.324316\n",
      "[2200]\ttrain-rmse:0.257264\tvalid-rmse:0.324072\n",
      "[2300]\ttrain-rmse:0.25582\tvalid-rmse:0.32386\n",
      "[2400]\ttrain-rmse:0.254415\tvalid-rmse:0.323697\n",
      "[2500]\ttrain-rmse:0.252955\tvalid-rmse:0.32353\n",
      "[2600]\ttrain-rmse:0.2517\tvalid-rmse:0.323402\n",
      "[2700]\ttrain-rmse:0.250251\tvalid-rmse:0.323204\n",
      "[2800]\ttrain-rmse:0.24892\tvalid-rmse:0.323037\n",
      "[2900]\ttrain-rmse:0.247634\tvalid-rmse:0.322891\n",
      "[3000]\ttrain-rmse:0.246488\tvalid-rmse:0.322748\n",
      "[3100]\ttrain-rmse:0.245392\tvalid-rmse:0.322639\n",
      "[3200]\ttrain-rmse:0.244186\tvalid-rmse:0.322484\n",
      "[3300]\ttrain-rmse:0.243136\tvalid-rmse:0.322378\n",
      "[3400]\ttrain-rmse:0.241948\tvalid-rmse:0.322236\n",
      "[3500]\ttrain-rmse:0.240936\tvalid-rmse:0.322156\n",
      "[3600]\ttrain-rmse:0.239792\tvalid-rmse:0.322024\n",
      "[3700]\ttrain-rmse:0.238707\tvalid-rmse:0.321903\n",
      "[3800]\ttrain-rmse:0.237678\tvalid-rmse:0.32181\n",
      "[3900]\ttrain-rmse:0.236795\tvalid-rmse:0.32175\n",
      "[4000]\ttrain-rmse:0.235756\tvalid-rmse:0.321678\n",
      "[4100]\ttrain-rmse:0.234802\tvalid-rmse:0.32163\n",
      "[4200]\ttrain-rmse:0.233817\tvalid-rmse:0.321542\n",
      "[4300]\ttrain-rmse:0.232906\tvalid-rmse:0.321473\n",
      "[4400]\ttrain-rmse:0.232015\tvalid-rmse:0.321408\n",
      "[4500]\ttrain-rmse:0.231037\tvalid-rmse:0.321333\n",
      "[4600]\ttrain-rmse:0.230136\tvalid-rmse:0.321276\n",
      "[4700]\ttrain-rmse:0.229119\tvalid-rmse:0.321202\n",
      "[4800]\ttrain-rmse:0.228225\tvalid-rmse:0.321108\n",
      "[4900]\ttrain-rmse:0.227341\tvalid-rmse:0.321051\n",
      "[5000]\ttrain-rmse:0.22646\tvalid-rmse:0.321002\n",
      "[5100]\ttrain-rmse:0.225685\tvalid-rmse:0.320956\n",
      "[5200]\ttrain-rmse:0.224776\tvalid-rmse:0.320895\n",
      "[5300]\ttrain-rmse:0.22393\tvalid-rmse:0.32085\n",
      "[5400]\ttrain-rmse:0.223125\tvalid-rmse:0.32081\n",
      "[5500]\ttrain-rmse:0.222292\tvalid-rmse:0.320758\n",
      "[5600]\ttrain-rmse:0.221438\tvalid-rmse:0.320692\n",
      "[5700]\ttrain-rmse:0.220578\tvalid-rmse:0.320618\n",
      "[5800]\ttrain-rmse:0.219738\tvalid-rmse:0.320569\n",
      "[5900]\ttrain-rmse:0.218893\tvalid-rmse:0.320502\n",
      "[6000]\ttrain-rmse:0.21815\tvalid-rmse:0.320472\n",
      "[6100]\ttrain-rmse:0.217353\tvalid-rmse:0.32043\n",
      "[6200]\ttrain-rmse:0.216521\tvalid-rmse:0.320365\n",
      "[6300]\ttrain-rmse:0.215746\tvalid-rmse:0.320328\n",
      "[6400]\ttrain-rmse:0.214966\tvalid-rmse:0.320285\n",
      "[6500]\ttrain-rmse:0.214248\tvalid-rmse:0.320238\n",
      "[6600]\ttrain-rmse:0.213575\tvalid-rmse:0.320215\n",
      "[6700]\ttrain-rmse:0.212824\tvalid-rmse:0.320171\n",
      "[6800]\ttrain-rmse:0.212126\tvalid-rmse:0.320144\n",
      "[6900]\ttrain-rmse:0.211349\tvalid-rmse:0.3201\n",
      "[7000]\ttrain-rmse:0.210533\tvalid-rmse:0.320058\n",
      "[7100]\ttrain-rmse:0.209814\tvalid-rmse:0.320028\n",
      "[7200]\ttrain-rmse:0.209084\tvalid-rmse:0.319988\n",
      "[7300]\ttrain-rmse:0.208433\tvalid-rmse:0.319975\n",
      "[7400]\ttrain-rmse:0.207629\tvalid-rmse:0.319911\n",
      "[7500]\ttrain-rmse:0.206906\tvalid-rmse:0.319879\n",
      "[7600]\ttrain-rmse:0.206192\tvalid-rmse:0.319851\n",
      "[7700]\ttrain-rmse:0.205578\tvalid-rmse:0.319824\n",
      "[7800]\ttrain-rmse:0.204901\tvalid-rmse:0.319803\n",
      "[7900]\ttrain-rmse:0.204295\tvalid-rmse:0.319784\n",
      "[8000]\ttrain-rmse:0.203606\tvalid-rmse:0.319746\n",
      "[8100]\ttrain-rmse:0.202935\tvalid-rmse:0.319739\n",
      "[8200]\ttrain-rmse:0.202302\tvalid-rmse:0.319708\n",
      "[8300]\ttrain-rmse:0.201639\tvalid-rmse:0.319689\n",
      "[8400]\ttrain-rmse:0.200923\tvalid-rmse:0.319656\n",
      "[8500]\ttrain-rmse:0.200333\tvalid-rmse:0.319646\n",
      "[8600]\ttrain-rmse:0.199648\tvalid-rmse:0.319612\n",
      "[8700]\ttrain-rmse:0.198989\tvalid-rmse:0.319595\n",
      "[8800]\ttrain-rmse:0.198343\tvalid-rmse:0.31957\n",
      "[8900]\ttrain-rmse:0.197716\tvalid-rmse:0.319531\n",
      "[9000]\ttrain-rmse:0.197164\tvalid-rmse:0.319517\n",
      "[9100]\ttrain-rmse:0.196514\tvalid-rmse:0.319494\n",
      "[9200]\ttrain-rmse:0.195847\tvalid-rmse:0.319478\n",
      "[9300]\ttrain-rmse:0.195226\tvalid-rmse:0.319459\n",
      "[9400]\ttrain-rmse:0.194604\tvalid-rmse:0.319438\n",
      "[9500]\ttrain-rmse:0.194009\tvalid-rmse:0.31942\n",
      "[9600]\ttrain-rmse:0.193415\tvalid-rmse:0.319402\n",
      "[9700]\ttrain-rmse:0.192843\tvalid-rmse:0.319383\n",
      "[9800]\ttrain-rmse:0.192231\tvalid-rmse:0.319365\n",
      "[9900]\ttrain-rmse:0.191594\tvalid-rmse:0.319342\n",
      "[10000]\ttrain-rmse:0.190961\tvalid-rmse:0.319329\n",
      "[10100]\ttrain-rmse:0.190277\tvalid-rmse:0.319294\n",
      "[10200]\ttrain-rmse:0.189708\tvalid-rmse:0.319279\n",
      "Stopping. Best iteration:\n",
      "[10192]\ttrain-rmse:0.189756\tvalid-rmse:0.319277\n",
      "\n"
     ]
    }
   ],
   "source": [
    "model = xgb.train(xgb_pars, dtrain, num_round, evallist, early_stopping_rounds=90, maximize=False, verbose_eval=100)\n"
   ]
  },
  {
   "cell_type": "code",
   "execution_count": 57,
   "metadata": {},
   "outputs": [
    {
     "name": "stdout",
     "output_type": "stream",
     "text": [
      "Modeling RMSLE 0.31928\n"
     ]
    }
   ],
   "source": [
    "print('=====> Modeling RMSLE %.5f' % model.best_score)"
   ]
  },
  {
   "cell_type": "code",
   "execution_count": 58,
   "metadata": {},
   "outputs": [
    {
     "data": {
      "image/png": "[encoded data removed]",
      "text/plain": [
       "<Figure size 1008x720 with 1 Axes>"
      ]
     },
     "metadata": {},
     "output_type": "display_data"
    }
   ],
   "source": [
    "import matplotlib.pyplot as plt\n",
    "fig, ax1 = plt.subplots(figsize=(20,11))\n",
    "xgb.plot_importance(model, ax=ax1, height=0.2, xlim=None,\n",
    "                    ylim=None, title='Feature importance',\n",
    "                    xlabel='F score', ylabel='Features',\n",
    "                    importance_type='weight', max_num_features=None,\n",
    "                    grid=True)\n",
    "plt.show()"
   ]
  },
  {
   "cell_type": "code",
   "execution_count": 59,
   "metadata": {},
   "outputs": [],
   "source": [
    "import pickle\n",
    "pickle.dump(model,open('xgb_pred2.sav','wb'))"
   ]
  },
  {
   "cell_type": "code",
   "execution_count": null,
   "metadata": {},
   "outputs": [],
   "source": []
  },
  {
   "cell_type": "markdown",
   "metadata": {},
   "source": [
    "# TEST"
   ]
  },
  {
   "cell_type": "code",
   "execution_count": 60,
   "metadata": {},
   "outputs": [],
   "source": [
    "test_dataset = pd.read_csv('test.csv')"
   ]
  },
  {
   "cell_type": "code",
   "execution_count": 61,
   "metadata": {},
   "outputs": [],
   "source": [
    "#Latitude and Longitude to cartesian cordindates converesion\n",
    "# Assuming Earth as sphere not ellipsoid \n",
    "def cartesian_x(lat,lon):\n",
    "    lat=np.radians(lat)\n",
    "    lon=np.radians(lon)\n",
    "    R=6371.0\n",
    "    x = R * np.cos(lat) * np.cos(lon)\n",
    "    return x\n",
    "def cartesian_y(lat,lon):\n",
    "    lat=np.radians(lat)\n",
    "    lon=np.radians(lon)\n",
    "    R=6371.0\n",
    "    y = R * np.cos(lat) * np.sin(lon)\n",
    "    return y\n",
    "# extracting cartesian x,y cordinates form latitude and longitude\n",
    "test_dataset['x1']=[cartesian_x(i,j) for i,j in zip(test_dataset['pickup_latitude'],test_dataset['pickup_longitude'])]\n",
    "test_dataset['y1']=[cartesian_y(i,j) for i,j in zip(test_dataset['pickup_latitude'],test_dataset['pickup_longitude'])]\n",
    "test_dataset['x2']=[cartesian_x(i,j) for i,j in zip(test_dataset['dropoff_latitude'],test_dataset['dropoff_longitude'])]\n",
    "test_dataset['y2']=[cartesian_y(i,j) for i,j in zip(test_dataset['dropoff_latitude'],test_dataset['dropoff_longitude'])]"
   ]
  },
  {
   "cell_type": "code",
   "execution_count": 62,
   "metadata": {},
   "outputs": [],
   "source": [
    "def euclidean_distance(a1,b1,a2,b2):\n",
    "    dist=np.sqrt((a2-a1)**2+(b2-b1)**2)\n",
    "    return dist\n",
    "    \n",
    "test_dataset['distance1']=[euclidean_distance(i,j,k,l) for i,j,k,l in zip(test_dataset['x1'], \n",
    "                                                                          test_dataset['y1'],\n",
    "                                                                          test_dataset['x2'], \n",
    "                                                                          test_dataset['y2'])]\n",
    "\n",
    "test_dataset['logdistance1']=np.log(test_dataset['distance1']+1)"
   ]
  },
  {
   "cell_type": "code",
   "execution_count": 65,
   "metadata": {},
   "outputs": [],
   "source": [
    "from haversine import haversine\n",
    "def create_distance1(df):\n",
    "    \n",
    "    #Haversine distance already in the file\n",
    "    df['havers_dist'] = df.apply(lambda x: haversine(\n",
    "        (x['pickup_latitude'], x['pickup_longitude']),\n",
    "        (x['dropoff_latitude'], x['dropoff_longitude'])), axis=1)\n",
    "    \n",
    "    #Manhattan distance\n",
    "    df['Manhattan_dist']=[min(abs(i-j),abs(k-l)) for i,j,k,l in zip(df['x1'],df['y1'],df['x2'],df['y2'])]\n",
    "    \n",
    "    #Chebyshev distance\n",
    "    df['Chebyshev_dist']=[max(abs(i-j),abs(k-l)) for i,j,k,l in zip(df['x1'],df['y1'],df['x2'],df['y2'])]\n",
    "\n",
    "def create_datetime_weekmont(df):\n",
    "    \n",
    "    df['pickup_datetime']=pd.to_datetime(df['pickup_datetime'])\n",
    "    df['pickup_hour'] = df['pickup_datetime'].dt.hour\n",
    "    df['pickup_min'] = df['pickup_datetime'].dt.minute\n",
    "    df['pickup_sec'] = df['pickup_datetime'].dt.second\n",
    "    df['pickup_day'] = df['pickup_datetime'].dt.dayofweek\n",
    "    df['pickup_date'] = df['pickup_datetime'].dt.day\n",
    "    df['pickup_mon'] = df['pickup_datetime'].dt.month"
   ]
  },
  {
   "cell_type": "code",
   "execution_count": 66,
   "metadata": {},
   "outputs": [],
   "source": [
    "create_distance1(test_dataset)\n",
    "create_datetime_weekmont(test_dataset)\n",
    "create_datetime(test_dataset)\n",
    "\n",
    "test_dataset['bearing_direction']=[bearing_heading(i,j,k,l) for i,j,k,l in zip(test_dataset['pickup_latitude'], \n",
    "                                                                       test_dataset['pickup_longitude'],\n",
    "                                                                       test_dataset['dropoff_latitude'], \n",
    "                                                                       test_dataset['dropoff_longitude'])]\n",
    "\n"
   ]
  },
  {
   "cell_type": "code",
   "execution_count": 68,
   "metadata": {},
   "outputs": [
    {
     "name": "stderr",
     "output_type": "stream",
     "text": [
      "C:\\Users\\EL MAHDI\\Anaconda3\\lib\\site-packages\\ipykernel_launcher.py:57: SettingWithCopyWarning: \n",
      "A value is trying to be set on a copy of a slice from a DataFrame\n",
      "\n",
      "See the caveats in the documentation: http://pandas.pydata.org/pandas-docs/stable/indexing.html#indexing-view-versus-copy\n",
      "C:\\Users\\EL MAHDI\\Anaconda3\\lib\\site-packages\\ipykernel_launcher.py:57: SettingWithCopyWarning: \n",
      "A value is trying to be set on a copy of a slice from a DataFrame\n",
      "\n",
      "See the caveats in the documentation: http://pandas.pydata.org/pandas-docs/stable/indexing.html#indexing-view-versus-copy\n"
     ]
    }
   ],
   "source": [
    "\n",
    "create_meanspeedhour(test_dataset)\n",
    "create_average_duration(test_dataset)"
   ]
  },
  {
   "cell_type": "code",
   "execution_count": 69,
   "metadata": {},
   "outputs": [
    {
     "data": {
      "text/plain": [
       "Index(['id', 'vendor_id', 'pickup_datetime', 'passenger_count',\n",
       "       'pickup_longitude', 'pickup_latitude', 'dropoff_longitude',\n",
       "       'dropoff_latitude', 'store_and_fwd_flag', 'x1', 'y1', 'x2', 'y2',\n",
       "       'distance1', 'logdistance1', 'havers_dist', 'Manhattan_dist',\n",
       "       'Chebyshev_dist', 'pickup_hour', 'pickup_min', 'pickup_sec',\n",
       "       'pickup_day', 'pickup_date', 'pickup_mon', 'pickup_seconds',\n",
       "       'mid_latitude', 'mid_longitude', 'bearing_direction', 'average_speed',\n",
       "       'average_duration'],\n",
       "      dtype='object')"
      ]
     },
     "execution_count": 69,
     "metadata": {},
     "output_type": "execute_result"
    }
   ],
   "source": [
    "test_dataset.columns"
   ]
  },
  {
   "cell_type": "code",
   "execution_count": 70,
   "metadata": {},
   "outputs": [
    {
     "data": {
      "text/plain": [
       "Index(['vendor_id', 'passenger_count', 'pickup_longitude', 'pickup_latitude',\n",
       "       'dropoff_longitude', 'dropoff_latitude', 'pickup_hour', 'x1', 'y1',\n",
       "       'x2', 'y2', 'distance1', 'logdistance1', 'havers_dist', 'pickup_min',\n",
       "       'pickup_sec', 'pickup_day', 'pickup_date', 'pickup_mon',\n",
       "       'average_speed', 'pickup_seconds', 'mid_latitude', 'mid_longitude',\n",
       "       'Manhattan_dist', 'Chebyshev_dist', 'average_duration',\n",
       "       'bearing_direction'],\n",
       "      dtype='object')"
      ]
     },
     "execution_count": 70,
     "metadata": {},
     "output_type": "execute_result"
    }
   ],
   "source": [
    "Xtrain.columns"
   ]
  },
  {
   "cell_type": "code",
   "execution_count": 72,
   "metadata": {},
   "outputs": [],
   "source": [
    "test=test_dataset.drop(['id','pickup_datetime','store_and_fwd_flag'], axis=1)"
   ]
  },
  {
   "cell_type": "code",
   "execution_count": 75,
   "metadata": {},
   "outputs": [
    {
     "data": {
      "text/plain": [
       "Index(['vendor_id', 'passenger_count', 'pickup_longitude', 'pickup_latitude',\n",
       "       'dropoff_longitude', 'dropoff_latitude', 'x1', 'y1', 'x2', 'y2',\n",
       "       'distance1', 'logdistance1', 'havers_dist', 'Manhattan_dist',\n",
       "       'Chebyshev_dist', 'pickup_hour', 'pickup_min', 'pickup_sec',\n",
       "       'pickup_day', 'pickup_date', 'pickup_mon', 'pickup_seconds',\n",
       "       'mid_latitude', 'mid_longitude', 'bearing_direction', 'average_speed',\n",
       "       'average_duration'],\n",
       "      dtype='object')"
      ]
     },
     "execution_count": 75,
     "metadata": {},
     "output_type": "execute_result"
    }
   ],
   "source": [
    "test.columns"
   ]
  },
  {
   "cell_type": "code",
   "execution_count": 76,
   "metadata": {},
   "outputs": [],
   "source": [
    "model=pickle.load(open('xgb_pred2.sav','rb'))"
   ]
  },
  {
   "cell_type": "code",
   "execution_count": 77,
   "metadata": {},
   "outputs": [],
   "source": [
    "dtest = xgb.DMatrix(test[['vendor_id', 'passenger_count', 'pickup_longitude', 'pickup_latitude',\n",
    "       'dropoff_longitude', 'dropoff_latitude', 'pickup_hour', 'x1', 'y1',\n",
    "       'x2', 'y2', 'distance1', 'logdistance1', 'havers_dist', 'pickup_min',\n",
    "       'pickup_sec', 'pickup_day', 'pickup_date', 'pickup_mon',\n",
    "       'average_speed', 'pickup_seconds', 'mid_latitude', 'mid_longitude',\n",
    "       'Manhattan_dist', 'Chebyshev_dist', 'average_duration',\n",
    "       'bearing_direction']])\n",
    "\n",
    "ytest = model.predict(dtest)"
   ]
  },
  {
   "cell_type": "code",
   "execution_count": 78,
   "metadata": {},
   "outputs": [
    {
     "data": {
      "text/plain": [
       "array([ 402.4288,  402.4288, 1095.6332,  402.4288, 1095.6332, 1095.6332,\n",
       "       1095.6332, 2979.958 ,  402.4288], dtype=float32)"
      ]
     },
     "execution_count": 78,
     "metadata": {},
     "output_type": "execute_result"
    }
   ],
   "source": [
    "np.exp(np.round(ytest[1:10]))-1"
   ]
  },
  {
   "cell_type": "code",
   "execution_count": 79,
   "metadata": {},
   "outputs": [],
   "source": [
    "test['trip_duration'] = np.round(np.exp(ytest)) - 1"
   ]
  },
  {
   "cell_type": "code",
   "execution_count": 80,
   "metadata": {},
   "outputs": [],
   "source": [
    "test_dataset['trip_duration']=np.round(np.exp(ytest)) - 1"
   ]
  },
  {
   "cell_type": "code",
   "execution_count": 81,
   "metadata": {},
   "outputs": [],
   "source": [
    "test_dataset[['id', 'trip_duration']].to_csv('submission_finale.csv', index=False)"
   ]
  },
  {
   "cell_type": "code",
   "execution_count": null,
   "metadata": {},
   "outputs": [],
   "source": []
  },
  {
   "cell_type": "code",
   "execution_count": null,
   "metadata": {},
   "outputs": [],
   "source": []
  },
  {
   "cell_type": "code",
   "execution_count": null,
   "metadata": {},
   "outputs": [],
   "source": []
  },
  {
   "cell_type": "code",
   "execution_count": null,
   "metadata": {},
   "outputs": [],
   "source": []
  }
 ],
 "metadata": {
  "kernelspec": {
   "display_name": "Python 3",
   "language": "python",
   "name": "python3"
  },
  "language_info": {
   "codemirror_mode": {
    "name": "ipython",
    "version": 3
   },
   "file_extension": ".py",
   "mimetype": "text/x-python",
   "name": "python",
   "nbconvert_exporter": "python",
   "pygments_lexer": "ipython3",
   "version": "3.6.5"
  }
 },
 "nbformat": 4,
 "nbformat_minor": 2
}
